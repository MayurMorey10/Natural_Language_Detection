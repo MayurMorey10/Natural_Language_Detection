{
  "cells": [
    {
      "cell_type": "markdown",
      "metadata": {
        "id": "3CauO9qaEITC"
      },
      "source": [
        "# Import all required libraries"
      ]
    },
    {
      "cell_type": "code",
      "execution_count": 8,
      "metadata": {
        "id": "ftcdSOmcwwrM"
      },
      "outputs": [],
      "source": [
        "import string\n",
        "import re\n",
        "import codecs\n",
        "import numpy as np\n",
        "import pandas as pd\n",
        "import seaborn as sns\n",
        "import matplotlib.pyplot as plt\n",
        "from sklearn import feature_extraction\n",
        "from sklearn import linear_model\n",
        "from sklearn.naive_bayes import MultinomialNB\n",
        "from sklearn.linear_model import LogisticRegression\n",
        "from sklearn.tree import DecisionTreeClassifier\n",
        "from sklearn.ensemble import RandomForestClassifier\n",
        "from sklearn import pipeline\n",
        "from sklearn.model_selection import train_test_split\n",
        "from sklearn import metrics\n",
        "import itertools"
      ]
    },
    {
      "cell_type": "markdown",
      "metadata": {
        "id": "-AXonWsA7MR5"
      },
      "source": [
        "# Loading Data\n"
      ]
    },
    {
      "cell_type": "code",
      "execution_count": 9,
      "metadata": {
        "colab": {
          "base_uri": "https://localhost:8080/"
        },
        "id": "zeL8ONYu5Dm7",
        "outputId": "6247208c-17ef-43e4-dfd6-66abb9dca746"
      },
      "outputs": [
        {
          "output_type": "stream",
          "name": "stderr",
          "text": [
            "<ipython-input-9-0c0f36ae8565>:1: FutureWarning: In a future version of pandas all arguments of read_csv except for the argument 'filepath_or_buffer' will be keyword-only.\n",
            "  german_df = pd.read_csv(\"/content/drive/MyDrive/Language Detection/europarl-v7.de-en.de\", \"utf-8\", header=None, names=[\"German\"])\n",
            "<ipython-input-9-0c0f36ae8565>:1: ParserWarning: Falling back to the 'python' engine because the 'c' engine does not support regex separators (separators > 1 char and different from '\\s+' are interpreted as regex); you can avoid this warning by specifying engine='python'.\n",
            "  german_df = pd.read_csv(\"/content/drive/MyDrive/Language Detection/europarl-v7.de-en.de\", \"utf-8\", header=None, names=[\"German\"])\n"
          ]
        }
      ],
      "source": [
        "german_df = pd.read_csv(\"/content/drive/MyDrive/Language Detection/europarl-v7.de-en.de\", \"utf-8\", header=None, names=[\"German\"])\n"
      ]
    },
    {
      "cell_type": "code",
      "execution_count": 10,
      "metadata": {
        "colab": {
          "base_uri": "https://localhost:8080/"
        },
        "id": "heJoUmai5Lce",
        "outputId": "1987ec1b-afd5-4855-9526-3296a996d3d1"
      },
      "outputs": [
        {
          "output_type": "stream",
          "name": "stderr",
          "text": [
            "<ipython-input-10-3e98db44cb7e>:1: FutureWarning: In a future version of pandas all arguments of read_csv except for the argument 'filepath_or_buffer' will be keyword-only.\n",
            "  french_df = pd.read_csv(\"/content/drive/MyDrive/Language Detection/europarl-v7.fr-en.fr\", \"utf-8\", header=None, names=[\"French\"])\n",
            "<ipython-input-10-3e98db44cb7e>:1: ParserWarning: Falling back to the 'python' engine because the 'c' engine does not support regex separators (separators > 1 char and different from '\\s+' are interpreted as regex); you can avoid this warning by specifying engine='python'.\n",
            "  french_df = pd.read_csv(\"/content/drive/MyDrive/Language Detection/europarl-v7.fr-en.fr\", \"utf-8\", header=None, names=[\"French\"])\n"
          ]
        }
      ],
      "source": [
        "french_df = pd.read_csv(\"/content/drive/MyDrive/Language Detection/europarl-v7.fr-en.fr\", \"utf-8\", header=None, names=[\"French\"])\n"
      ]
    },
    {
      "cell_type": "code",
      "execution_count": 11,
      "metadata": {
        "colab": {
          "base_uri": "https://localhost:8080/"
        },
        "id": "3-btInHP5OaH",
        "outputId": "cfd89909-bf68-498e-f96c-d34de7cd284a"
      },
      "outputs": [
        {
          "output_type": "stream",
          "name": "stderr",
          "text": [
            "<ipython-input-11-bd6ceb8b4e81>:1: FutureWarning: In a future version of pandas all arguments of read_csv except for the argument 'filepath_or_buffer' will be keyword-only.\n",
            "  bulgarian_df = pd.read_csv(\"/content/drive/MyDrive/Language Detection/europarl-v7.bg-en.bg\", \"utf-8\", header=None, names=['Bulgarian'])\n",
            "<ipython-input-11-bd6ceb8b4e81>:1: ParserWarning: Falling back to the 'python' engine because the 'c' engine does not support regex separators (separators > 1 char and different from '\\s+' are interpreted as regex); you can avoid this warning by specifying engine='python'.\n",
            "  bulgarian_df = pd.read_csv(\"/content/drive/MyDrive/Language Detection/europarl-v7.bg-en.bg\", \"utf-8\", header=None, names=['Bulgarian'])\n"
          ]
        }
      ],
      "source": [
        "bulgarian_df = pd.read_csv(\"/content/drive/MyDrive/Language Detection/europarl-v7.bg-en.bg\", \"utf-8\", header=None, names=['Bulgarian'])\n"
      ]
    },
    {
      "cell_type": "code",
      "execution_count": 12,
      "metadata": {
        "colab": {
          "base_uri": "https://localhost:8080/"
        },
        "id": "M0r4nb5Y5OT9",
        "outputId": "e718ccfd-9b0c-4c91-d9db-4ac7119b6e23"
      },
      "outputs": [
        {
          "output_type": "stream",
          "name": "stderr",
          "text": [
            "<ipython-input-12-0bf31ae4abac>:1: FutureWarning: In a future version of pandas all arguments of read_csv except for the argument 'filepath_or_buffer' will be keyword-only.\n",
            "  czech_df = pd.read_csv(\"/content/drive/MyDrive/Language Detection/europarl-v7.cs-en.cs\", \"utf-8\", header=None, names=['Czech'])\n",
            "<ipython-input-12-0bf31ae4abac>:1: ParserWarning: Falling back to the 'python' engine because the 'c' engine does not support regex separators (separators > 1 char and different from '\\s+' are interpreted as regex); you can avoid this warning by specifying engine='python'.\n",
            "  czech_df = pd.read_csv(\"/content/drive/MyDrive/Language Detection/europarl-v7.cs-en.cs\", \"utf-8\", header=None, names=['Czech'])\n"
          ]
        }
      ],
      "source": [
        "czech_df = pd.read_csv(\"/content/drive/MyDrive/Language Detection/europarl-v7.cs-en.cs\", \"utf-8\", header=None, names=['Czech'])\n"
      ]
    },
    {
      "cell_type": "code",
      "execution_count": 13,
      "metadata": {
        "colab": {
          "base_uri": "https://localhost:8080/"
        },
        "id": "e9KkcDz15ONn",
        "outputId": "6dc14688-fa15-4f71-b6f1-c5ea94232d2b"
      },
      "outputs": [
        {
          "output_type": "stream",
          "name": "stderr",
          "text": [
            "<ipython-input-13-d30242870f1f>:1: FutureWarning: In a future version of pandas all arguments of read_csv except for the argument 'filepath_or_buffer' will be keyword-only.\n",
            "  danish_df = pd.read_csv('/content/drive/MyDrive/Language Detection/europarl-v7.da-en.da', \"utf-8\", header=None, names=['Danish'])\n",
            "<ipython-input-13-d30242870f1f>:1: ParserWarning: Falling back to the 'python' engine because the 'c' engine does not support regex separators (separators > 1 char and different from '\\s+' are interpreted as regex); you can avoid this warning by specifying engine='python'.\n",
            "  danish_df = pd.read_csv('/content/drive/MyDrive/Language Detection/europarl-v7.da-en.da', \"utf-8\", header=None, names=['Danish'])\n"
          ]
        }
      ],
      "source": [
        "danish_df = pd.read_csv('/content/drive/MyDrive/Language Detection/europarl-v7.da-en.da', \"utf-8\", header=None, names=['Danish'])\n"
      ]
    },
    {
      "cell_type": "code",
      "execution_count": 14,
      "metadata": {
        "colab": {
          "base_uri": "https://localhost:8080/"
        },
        "id": "1ArT-iAU5N3_",
        "outputId": "58cc6412-d99b-48ad-fb0e-678345fa0836"
      },
      "outputs": [
        {
          "output_type": "stream",
          "name": "stderr",
          "text": [
            "<ipython-input-14-4be94f013771>:1: FutureWarning: In a future version of pandas all arguments of read_csv except for the argument 'filepath_or_buffer' will be keyword-only.\n",
            "  finnish_df = pd.read_csv('/content/drive/MyDrive/Language Detection/europarl-v7.fi-en.fi', \"utf-8\", header=None, names=['Finnish'])\n",
            "<ipython-input-14-4be94f013771>:1: ParserWarning: Falling back to the 'python' engine because the 'c' engine does not support regex separators (separators > 1 char and different from '\\s+' are interpreted as regex); you can avoid this warning by specifying engine='python'.\n",
            "  finnish_df = pd.read_csv('/content/drive/MyDrive/Language Detection/europarl-v7.fi-en.fi', \"utf-8\", header=None, names=['Finnish'])\n"
          ]
        }
      ],
      "source": [
        "finnish_df = pd.read_csv('/content/drive/MyDrive/Language Detection/europarl-v7.fi-en.fi', \"utf-8\", header=None, names=['Finnish'])\n"
      ]
    },
    {
      "cell_type": "code",
      "execution_count": 15,
      "metadata": {
        "colab": {
          "base_uri": "https://localhost:8080/"
        },
        "id": "IUyBU5pS5ZZn",
        "outputId": "b2b74fad-7f2b-4314-f6a4-39079662865e"
      },
      "outputs": [
        {
          "output_type": "stream",
          "name": "stderr",
          "text": [
            "<ipython-input-15-6cab37b721bc>:1: FutureWarning: In a future version of pandas all arguments of read_csv except for the argument 'filepath_or_buffer' will be keyword-only.\n",
            "  hungarian_df = pd.read_csv('/content/drive/MyDrive/Language Detection/europarl-v7.hu-en.hu', 'utf-8', header=None, names=['Hungarian'])\n",
            "<ipython-input-15-6cab37b721bc>:1: ParserWarning: Falling back to the 'python' engine because the 'c' engine does not support regex separators (separators > 1 char and different from '\\s+' are interpreted as regex); you can avoid this warning by specifying engine='python'.\n",
            "  hungarian_df = pd.read_csv('/content/drive/MyDrive/Language Detection/europarl-v7.hu-en.hu', 'utf-8', header=None, names=['Hungarian'])\n"
          ]
        }
      ],
      "source": [
        "hungarian_df = pd.read_csv('/content/drive/MyDrive/Language Detection/europarl-v7.hu-en.hu', 'utf-8', header=None, names=['Hungarian'])\n"
      ]
    },
    {
      "cell_type": "code",
      "execution_count": 16,
      "metadata": {
        "colab": {
          "base_uri": "https://localhost:8080/"
        },
        "id": "_pta1QWQ5ZXI",
        "outputId": "2dbdfa9d-e8f1-400f-f7c1-db38d4823311"
      },
      "outputs": [
        {
          "output_type": "stream",
          "name": "stderr",
          "text": [
            "<ipython-input-16-155a635b2a62>:1: FutureWarning: In a future version of pandas all arguments of read_csv except for the argument 'filepath_or_buffer' will be keyword-only.\n",
            "  latvian_df = pd.read_csv('/content/drive/MyDrive/Language Detection/europarl-v7.lv-en.lv', 'utf-8', header=None, names=['Latvian'])\n",
            "<ipython-input-16-155a635b2a62>:1: ParserWarning: Falling back to the 'python' engine because the 'c' engine does not support regex separators (separators > 1 char and different from '\\s+' are interpreted as regex); you can avoid this warning by specifying engine='python'.\n",
            "  latvian_df = pd.read_csv('/content/drive/MyDrive/Language Detection/europarl-v7.lv-en.lv', 'utf-8', header=None, names=['Latvian'])\n"
          ]
        }
      ],
      "source": [
        "latvian_df = pd.read_csv('/content/drive/MyDrive/Language Detection/europarl-v7.lv-en.lv', 'utf-8', header=None, names=['Latvian'])\n"
      ]
    },
    {
      "cell_type": "code",
      "execution_count": 17,
      "metadata": {
        "colab": {
          "base_uri": "https://localhost:8080/"
        },
        "id": "Bk22rAbH5ZUY",
        "outputId": "8c3dd4d5-689f-44ff-dc29-1a5d025a56de"
      },
      "outputs": [
        {
          "output_type": "stream",
          "name": "stderr",
          "text": [
            "<ipython-input-17-a0ec6f136d23>:1: FutureWarning: In a future version of pandas all arguments of read_csv except for the argument 'filepath_or_buffer' will be keyword-only.\n",
            "  dutch_df = pd.read_csv('/content/drive/MyDrive/Language Detection/europarl-v7.nl-en.nl', 'utf-8', header=None, names=['Dutch'])\n",
            "<ipython-input-17-a0ec6f136d23>:1: ParserWarning: Falling back to the 'python' engine because the 'c' engine does not support regex separators (separators > 1 char and different from '\\s+' are interpreted as regex); you can avoid this warning by specifying engine='python'.\n",
            "  dutch_df = pd.read_csv('/content/drive/MyDrive/Language Detection/europarl-v7.nl-en.nl', 'utf-8', header=None, names=['Dutch'])\n"
          ]
        }
      ],
      "source": [
        "dutch_df = pd.read_csv('/content/drive/MyDrive/Language Detection/europarl-v7.nl-en.nl', 'utf-8', header=None, names=['Dutch'])\n"
      ]
    },
    {
      "cell_type": "code",
      "execution_count": 18,
      "metadata": {
        "colab": {
          "base_uri": "https://localhost:8080/"
        },
        "id": "x9rd2MyK5ZQI",
        "outputId": "a54b7d56-fc57-4bda-e791-8993b5667c90"
      },
      "outputs": [
        {
          "output_type": "stream",
          "name": "stderr",
          "text": [
            "<ipython-input-18-94d80ac7388b>:1: FutureWarning: In a future version of pandas all arguments of read_csv except for the argument 'filepath_or_buffer' will be keyword-only.\n",
            "  polish_df = pd.read_csv('/content/drive/MyDrive/Language Detection/europarl-v7.pl-en.pl', 'utf-8', header=None, names=['Polish'])\n",
            "<ipython-input-18-94d80ac7388b>:1: ParserWarning: Falling back to the 'python' engine because the 'c' engine does not support regex separators (separators > 1 char and different from '\\s+' are interpreted as regex); you can avoid this warning by specifying engine='python'.\n",
            "  polish_df = pd.read_csv('/content/drive/MyDrive/Language Detection/europarl-v7.pl-en.pl', 'utf-8', header=None, names=['Polish'])\n"
          ]
        }
      ],
      "source": [
        "polish_df = pd.read_csv('/content/drive/MyDrive/Language Detection/europarl-v7.pl-en.pl', 'utf-8', header=None, names=['Polish'])\n"
      ]
    },
    {
      "cell_type": "code",
      "execution_count": 19,
      "metadata": {
        "colab": {
          "base_uri": "https://localhost:8080/"
        },
        "id": "lqh993GH5ZKI",
        "outputId": "6049a53a-08de-4a10-ac1f-c2e019a4a77c"
      },
      "outputs": [
        {
          "output_type": "stream",
          "name": "stderr",
          "text": [
            "<ipython-input-19-62bfcd337e0e>:1: FutureWarning: In a future version of pandas all arguments of read_csv except for the argument 'filepath_or_buffer' will be keyword-only.\n",
            "  portuguese_data = pd.read_csv('/content/drive/MyDrive/Language Detection/europarl-v7.pt-en.pt', 'utf-8', header=None, names=['Portuguese'])\n",
            "<ipython-input-19-62bfcd337e0e>:1: ParserWarning: Falling back to the 'python' engine because the 'c' engine does not support regex separators (separators > 1 char and different from '\\s+' are interpreted as regex); you can avoid this warning by specifying engine='python'.\n",
            "  portuguese_data = pd.read_csv('/content/drive/MyDrive/Language Detection/europarl-v7.pt-en.pt', 'utf-8', header=None, names=['Portuguese'])\n"
          ]
        }
      ],
      "source": [
        "portuguese_data = pd.read_csv('/content/drive/MyDrive/Language Detection/europarl-v7.pt-en.pt', 'utf-8', header=None, names=['Portuguese'])\n"
      ]
    },
    {
      "cell_type": "code",
      "execution_count": 20,
      "metadata": {
        "colab": {
          "base_uri": "https://localhost:8080/"
        },
        "id": "UOjgXlmI5iYA",
        "outputId": "fe84c694-cc41-4fa7-f111-a81c7b84fab2"
      },
      "outputs": [
        {
          "output_type": "stream",
          "name": "stderr",
          "text": [
            "<ipython-input-20-f8c84348d705>:1: FutureWarning: In a future version of pandas all arguments of read_csv except for the argument 'filepath_or_buffer' will be keyword-only.\n",
            "  romanian_df = pd.read_csv('/content/drive/MyDrive/Language Detection/europarl-v7.ro-en.ro', 'utf-8', header=None, names=['Romanian'])\n",
            "<ipython-input-20-f8c84348d705>:1: ParserWarning: Falling back to the 'python' engine because the 'c' engine does not support regex separators (separators > 1 char and different from '\\s+' are interpreted as regex); you can avoid this warning by specifying engine='python'.\n",
            "  romanian_df = pd.read_csv('/content/drive/MyDrive/Language Detection/europarl-v7.ro-en.ro', 'utf-8', header=None, names=['Romanian'])\n"
          ]
        }
      ],
      "source": [
        "romanian_df = pd.read_csv('/content/drive/MyDrive/Language Detection/europarl-v7.ro-en.ro', 'utf-8', header=None, names=['Romanian'])\n"
      ]
    },
    {
      "cell_type": "code",
      "execution_count": 21,
      "metadata": {
        "colab": {
          "base_uri": "https://localhost:8080/"
        },
        "id": "ojSxKbcz5iVh",
        "outputId": "7fd7dc17-6863-4895-f3a2-e439000ed670"
      },
      "outputs": [
        {
          "output_type": "stream",
          "name": "stderr",
          "text": [
            "<ipython-input-21-adda90a6b86b>:1: FutureWarning: In a future version of pandas all arguments of read_csv except for the argument 'filepath_or_buffer' will be keyword-only.\n",
            "  slovenian_df = pd.read_csv('/content/drive/MyDrive/Language Detection/europarl-v7.sl-en.sl', 'utf-8', header=None, names=['Slovenian'])\n",
            "<ipython-input-21-adda90a6b86b>:1: ParserWarning: Falling back to the 'python' engine because the 'c' engine does not support regex separators (separators > 1 char and different from '\\s+' are interpreted as regex); you can avoid this warning by specifying engine='python'.\n",
            "  slovenian_df = pd.read_csv('/content/drive/MyDrive/Language Detection/europarl-v7.sl-en.sl', 'utf-8', header=None, names=['Slovenian'])\n"
          ]
        }
      ],
      "source": [
        "slovenian_df = pd.read_csv('/content/drive/MyDrive/Language Detection/europarl-v7.sl-en.sl', 'utf-8', header=None, names=['Slovenian'])\n"
      ]
    },
    {
      "cell_type": "code",
      "execution_count": 22,
      "metadata": {
        "colab": {
          "base_uri": "https://localhost:8080/"
        },
        "id": "kyrjcuUM5iS7",
        "outputId": "7a313185-f367-43db-ef10-eeee24c16fb4"
      },
      "outputs": [
        {
          "output_type": "stream",
          "name": "stderr",
          "text": [
            "<ipython-input-22-569d199f98ae>:1: FutureWarning: In a future version of pandas all arguments of read_csv except for the argument 'filepath_or_buffer' will be keyword-only.\n",
            "  swedish_df = pd.read_csv('/content/drive/MyDrive/Language Detection/europarl-v7.sv-en.sv', 'utf-8', header=None, names=['Swedish'])\n",
            "<ipython-input-22-569d199f98ae>:1: ParserWarning: Falling back to the 'python' engine because the 'c' engine does not support regex separators (separators > 1 char and different from '\\s+' are interpreted as regex); you can avoid this warning by specifying engine='python'.\n",
            "  swedish_df = pd.read_csv('/content/drive/MyDrive/Language Detection/europarl-v7.sv-en.sv', 'utf-8', header=None, names=['Swedish'])\n"
          ]
        }
      ],
      "source": [
        "swedish_df = pd.read_csv('/content/drive/MyDrive/Language Detection/europarl-v7.sv-en.sv', 'utf-8', header=None, names=['Swedish'])\n"
      ]
    },
    {
      "cell_type": "markdown",
      "metadata": {
        "id": "59HRgiY57XlZ"
      },
      "source": [
        "# Data Preprocessing"
      ]
    },
    {
      "cell_type": "code",
      "execution_count": 23,
      "metadata": {
        "colab": {
          "base_uri": "https://localhost:8080/"
        },
        "id": "o5mqxRFFTAle",
        "outputId": "16f7406a-5790-45ab-b5ba-b181a0927591"
      },
      "outputs": [
        {
          "output_type": "stream",
          "name": "stdout",
          "text": [
            "! \" # $ % & ' ( ) * + , - . / : ; < = > ? @ [ \\ ] ^ _ ` { | } ~ "
          ]
        }
      ],
      "source": [
        "for char in string.punctuation:\n",
        "    print(char, end = ' ')\n",
        "translate_table = dict((ord(char), None) for char in string.punctuation)"
      ]
    },
    {
      "cell_type": "code",
      "execution_count": 24,
      "metadata": {
        "id": "DRKXYqnURKLw"
      },
      "outputs": [],
      "source": [
        "stack = [german_df,french_df,bulgarian_df,czech_df,danish_df,finnish_df,hungarian_df,latvian_df,dutch_df,polish_df,portuguese_data,romanian_df,slovenian_df,swedish_df]\n",
        "lang = [\"German\",\"French\",'Bulgarian','Czech','Danish','Finnish','Hungarian','Latvian','Dutch','Polish','Portuguese','Romanian','Slovenian','Swedish']"
      ]
    },
    {
      "cell_type": "code",
      "execution_count": 25,
      "metadata": {
        "id": "z1HQAk-C7ebf"
      },
      "outputs": [],
      "source": [
        "def data_clean(df,lang,data_test,data_lang):\n",
        "  df = df.iloc[:5000]\n",
        "  data_eng = []\n",
        "  lang_eng = []\n",
        "\n",
        "  for i, line in df.iterrows():\n",
        "      line = line[lang]\n",
        "      if len(line) !=0:\n",
        "          line = line.lower()\n",
        "          line = re.sub(r\"\\d+\", \"\", line)\n",
        "          line = line.translate(translate_table)\n",
        "          data_eng.append(line)\n",
        "          lang_eng.append(lang)\n",
        "  data_test += data_eng\n",
        "  data_lang += lang_eng"
      ]
    },
    {
      "cell_type": "code",
      "execution_count": 26,
      "metadata": {
        "id": "CldnQyH9Sy4I"
      },
      "outputs": [],
      "source": [
        "text = []\n",
        "language = []\n",
        "for i in range(0,14):\n",
        "  data_clean(stack[i],lang[i],text,language)"
      ]
    },
    {
      "cell_type": "markdown",
      "metadata": {
        "id": "d0v-xj4KD9DD"
      },
      "source": [
        "# Transforming the data into a single dataset"
      ]
    },
    {
      "cell_type": "code",
      "execution_count": 33,
      "metadata": {
        "id": "_hIbmJcnEDpM",
        "colab": {
          "base_uri": "https://localhost:8080/",
          "height": 0
        },
        "outputId": "24e1dcfa-558c-43c9-b512-0614dc0cc346"
      },
      "outputs": [
        {
          "output_type": "execute_result",
          "data": {
            "text/plain": [
              "                                                Text Language\n",
              "0                 wiederaufnahme der sitzungsperiode   German\n",
              "1  ich erkläre die am freitag dem  dezember unter...   German\n",
              "2  wie sie feststellen konnten ist der gefürchtet...   German\n",
              "3  im parlament besteht der wunsch nach einer aus...   German\n",
              "4  heute möchte ich sie bitten  das ist auch der ...   German"
            ],
            "text/html": [
              "\n",
              "\n",
              "  <div id=\"df-d7b9a773-8215-4f97-9c9c-384d8a88c91e\">\n",
              "    <div class=\"colab-df-container\">\n",
              "      <div>\n",
              "<style scoped>\n",
              "    .dataframe tbody tr th:only-of-type {\n",
              "        vertical-align: middle;\n",
              "    }\n",
              "\n",
              "    .dataframe tbody tr th {\n",
              "        vertical-align: top;\n",
              "    }\n",
              "\n",
              "    .dataframe thead th {\n",
              "        text-align: right;\n",
              "    }\n",
              "</style>\n",
              "<table border=\"1\" class=\"dataframe\">\n",
              "  <thead>\n",
              "    <tr style=\"text-align: right;\">\n",
              "      <th></th>\n",
              "      <th>Text</th>\n",
              "      <th>Language</th>\n",
              "    </tr>\n",
              "  </thead>\n",
              "  <tbody>\n",
              "    <tr>\n",
              "      <th>0</th>\n",
              "      <td>wiederaufnahme der sitzungsperiode</td>\n",
              "      <td>German</td>\n",
              "    </tr>\n",
              "    <tr>\n",
              "      <th>1</th>\n",
              "      <td>ich erkläre die am freitag dem  dezember unter...</td>\n",
              "      <td>German</td>\n",
              "    </tr>\n",
              "    <tr>\n",
              "      <th>2</th>\n",
              "      <td>wie sie feststellen konnten ist der gefürchtet...</td>\n",
              "      <td>German</td>\n",
              "    </tr>\n",
              "    <tr>\n",
              "      <th>3</th>\n",
              "      <td>im parlament besteht der wunsch nach einer aus...</td>\n",
              "      <td>German</td>\n",
              "    </tr>\n",
              "    <tr>\n",
              "      <th>4</th>\n",
              "      <td>heute möchte ich sie bitten  das ist auch der ...</td>\n",
              "      <td>German</td>\n",
              "    </tr>\n",
              "  </tbody>\n",
              "</table>\n",
              "</div>\n",
              "      <button class=\"colab-df-convert\" onclick=\"convertToInteractive('df-d7b9a773-8215-4f97-9c9c-384d8a88c91e')\"\n",
              "              title=\"Convert this dataframe to an interactive table.\"\n",
              "              style=\"display:none;\">\n",
              "\n",
              "  <svg xmlns=\"http://www.w3.org/2000/svg\" height=\"24px\"viewBox=\"0 0 24 24\"\n",
              "       width=\"24px\">\n",
              "    <path d=\"M0 0h24v24H0V0z\" fill=\"none\"/>\n",
              "    <path d=\"M18.56 5.44l.94 2.06.94-2.06 2.06-.94-2.06-.94-.94-2.06-.94 2.06-2.06.94zm-11 1L8.5 8.5l.94-2.06 2.06-.94-2.06-.94L8.5 2.5l-.94 2.06-2.06.94zm10 10l.94 2.06.94-2.06 2.06-.94-2.06-.94-.94-2.06-.94 2.06-2.06.94z\"/><path d=\"M17.41 7.96l-1.37-1.37c-.4-.4-.92-.59-1.43-.59-.52 0-1.04.2-1.43.59L10.3 9.45l-7.72 7.72c-.78.78-.78 2.05 0 2.83L4 21.41c.39.39.9.59 1.41.59.51 0 1.02-.2 1.41-.59l7.78-7.78 2.81-2.81c.8-.78.8-2.07 0-2.86zM5.41 20L4 18.59l7.72-7.72 1.47 1.35L5.41 20z\"/>\n",
              "  </svg>\n",
              "      </button>\n",
              "\n",
              "\n",
              "\n",
              "    <div id=\"df-189a8d26-277b-4e6f-8987-aae02b8a420b\">\n",
              "      <button class=\"colab-df-quickchart\" onclick=\"quickchart('df-189a8d26-277b-4e6f-8987-aae02b8a420b')\"\n",
              "              title=\"Suggest charts.\"\n",
              "              style=\"display:none;\">\n",
              "\n",
              "<svg xmlns=\"http://www.w3.org/2000/svg\" height=\"24px\"viewBox=\"0 0 24 24\"\n",
              "     width=\"24px\">\n",
              "    <g>\n",
              "        <path d=\"M19 3H5c-1.1 0-2 .9-2 2v14c0 1.1.9 2 2 2h14c1.1 0 2-.9 2-2V5c0-1.1-.9-2-2-2zM9 17H7v-7h2v7zm4 0h-2V7h2v10zm4 0h-2v-4h2v4z\"/>\n",
              "    </g>\n",
              "</svg>\n",
              "      </button>\n",
              "    </div>\n",
              "\n",
              "<style>\n",
              "  .colab-df-quickchart {\n",
              "    background-color: #E8F0FE;\n",
              "    border: none;\n",
              "    border-radius: 50%;\n",
              "    cursor: pointer;\n",
              "    display: none;\n",
              "    fill: #1967D2;\n",
              "    height: 32px;\n",
              "    padding: 0 0 0 0;\n",
              "    width: 32px;\n",
              "  }\n",
              "\n",
              "  .colab-df-quickchart:hover {\n",
              "    background-color: #E2EBFA;\n",
              "    box-shadow: 0px 1px 2px rgba(60, 64, 67, 0.3), 0px 1px 3px 1px rgba(60, 64, 67, 0.15);\n",
              "    fill: #174EA6;\n",
              "  }\n",
              "\n",
              "  [theme=dark] .colab-df-quickchart {\n",
              "    background-color: #3B4455;\n",
              "    fill: #D2E3FC;\n",
              "  }\n",
              "\n",
              "  [theme=dark] .colab-df-quickchart:hover {\n",
              "    background-color: #434B5C;\n",
              "    box-shadow: 0px 1px 3px 1px rgba(0, 0, 0, 0.15);\n",
              "    filter: drop-shadow(0px 1px 2px rgba(0, 0, 0, 0.3));\n",
              "    fill: #FFFFFF;\n",
              "  }\n",
              "</style>\n",
              "\n",
              "    <script>\n",
              "      async function quickchart(key) {\n",
              "        const containerElement = document.querySelector('#' + key);\n",
              "        const charts = await google.colab.kernel.invokeFunction(\n",
              "            'suggestCharts', [key], {});\n",
              "      }\n",
              "    </script>\n",
              "\n",
              "      <script>\n",
              "\n",
              "function displayQuickchartButton(domScope) {\n",
              "  let quickchartButtonEl =\n",
              "    domScope.querySelector('#df-189a8d26-277b-4e6f-8987-aae02b8a420b button.colab-df-quickchart');\n",
              "  quickchartButtonEl.style.display =\n",
              "    google.colab.kernel.accessAllowed ? 'block' : 'none';\n",
              "}\n",
              "\n",
              "        displayQuickchartButton(document);\n",
              "      </script>\n",
              "      <style>\n",
              "    .colab-df-container {\n",
              "      display:flex;\n",
              "      flex-wrap:wrap;\n",
              "      gap: 12px;\n",
              "    }\n",
              "\n",
              "    .colab-df-convert {\n",
              "      background-color: #E8F0FE;\n",
              "      border: none;\n",
              "      border-radius: 50%;\n",
              "      cursor: pointer;\n",
              "      display: none;\n",
              "      fill: #1967D2;\n",
              "      height: 32px;\n",
              "      padding: 0 0 0 0;\n",
              "      width: 32px;\n",
              "    }\n",
              "\n",
              "    .colab-df-convert:hover {\n",
              "      background-color: #E2EBFA;\n",
              "      box-shadow: 0px 1px 2px rgba(60, 64, 67, 0.3), 0px 1px 3px 1px rgba(60, 64, 67, 0.15);\n",
              "      fill: #174EA6;\n",
              "    }\n",
              "\n",
              "    [theme=dark] .colab-df-convert {\n",
              "      background-color: #3B4455;\n",
              "      fill: #D2E3FC;\n",
              "    }\n",
              "\n",
              "    [theme=dark] .colab-df-convert:hover {\n",
              "      background-color: #434B5C;\n",
              "      box-shadow: 0px 1px 3px 1px rgba(0, 0, 0, 0.15);\n",
              "      filter: drop-shadow(0px 1px 2px rgba(0, 0, 0, 0.3));\n",
              "      fill: #FFFFFF;\n",
              "    }\n",
              "  </style>\n",
              "\n",
              "      <script>\n",
              "        const buttonEl =\n",
              "          document.querySelector('#df-d7b9a773-8215-4f97-9c9c-384d8a88c91e button.colab-df-convert');\n",
              "        buttonEl.style.display =\n",
              "          google.colab.kernel.accessAllowed ? 'block' : 'none';\n",
              "\n",
              "        async function convertToInteractive(key) {\n",
              "          const element = document.querySelector('#df-d7b9a773-8215-4f97-9c9c-384d8a88c91e');\n",
              "          const dataTable =\n",
              "            await google.colab.kernel.invokeFunction('convertToInteractive',\n",
              "                                                     [key], {});\n",
              "          if (!dataTable) return;\n",
              "\n",
              "          const docLinkHtml = 'Like what you see? Visit the ' +\n",
              "            '<a target=\"_blank\" href=https://colab.research.google.com/notebooks/data_table.ipynb>data table notebook</a>'\n",
              "            + ' to learn more about interactive tables.';\n",
              "          element.innerHTML = '';\n",
              "          dataTable['output_type'] = 'display_data';\n",
              "          await google.colab.output.renderOutput(dataTable, element);\n",
              "          const docLink = document.createElement('div');\n",
              "          docLink.innerHTML = docLinkHtml;\n",
              "          element.appendChild(docLink);\n",
              "        }\n",
              "      </script>\n",
              "    </div>\n",
              "  </div>\n"
            ]
          },
          "metadata": {},
          "execution_count": 33
        }
      ],
      "source": [
        "df = df = pd.DataFrame({\n",
        "    \"Text\" : text,\n",
        "    \"Language\" : language\n",
        "})\n",
        "df.head()"
      ]
    },
    {
      "cell_type": "code",
      "execution_count": 34,
      "metadata": {
        "colab": {
          "base_uri": "https://localhost:8080/",
          "height": 0
        },
        "id": "Fr9_3iPNIXXV",
        "outputId": "27eb302c-4e39-44ed-bf83-7b5780492036"
      },
      "outputs": [
        {
          "output_type": "execute_result",
          "data": {
            "text/plain": [
              "<Axes: xlabel='Language', ylabel='count'>"
            ]
          },
          "metadata": {},
          "execution_count": 34
        },
        {
          "output_type": "display_data",
          "data": {
            "text/plain": [
              "<Figure size 2000x2000 with 1 Axes>"
            ],
            "image/png": "[encoded data removed]"
          },
          "metadata": {}
        }
      ],
      "source": [
        "plt.figure(figsize=(20,20))\n",
        "sns.countplot(x = df['Language'], data=df)"
      ]
    },
    {
      "cell_type": "markdown",
      "metadata": {
        "id": "bXXz0HJWIcjt"
      },
      "source": [
        "# Splitting the dataset"
      ]
    },
    {
      "cell_type": "markdown",
      "metadata": {
        "id": "c_ZaPQoGJRBq"
      },
      "source": [
        "\n",
        "Splitting the dataset into Independent and Dependent variables"
      ]
    },
    {
      "cell_type": "code",
      "execution_count": 35,
      "metadata": {
        "id": "5dKd4NieJV_L"
      },
      "outputs": [],
      "source": [
        "x = df.iloc[:,0] # Independent Variable\n",
        "y = df.iloc[:,1] # Dependent Variable"
      ]
    },
    {
      "cell_type": "code",
      "execution_count": 36,
      "metadata": {
        "id": "qUlk6kurJYVp"
      },
      "outputs": [],
      "source": [
        "x_train, x_test, y_train, y_test = train_test_split(x, y, test_size=0.2, random_state=42)"
      ]
    },
    {
      "cell_type": "markdown",
      "metadata": {
        "id": "nwHYtYw1PuM6"
      },
      "source": [
        "# Applying TF-IDF Vectorizer"
      ]
    },
    {
      "cell_type": "code",
      "execution_count": 37,
      "metadata": {
        "id": "x3s9fOIzP0kf"
      },
      "outputs": [],
      "source": [
        "vectorizer = feature_extraction.text.TfidfVectorizer(ngram_range=(1,3), analyzer='char')"
      ]
    },
    {
      "cell_type": "code",
      "execution_count": 38,
      "metadata": {
        "id": "OYJEcoA0QG5x"
      },
      "outputs": [],
      "source": [
        "pipe_mnb = pipeline.Pipeline([\n",
        "    ('vectorizer', vectorizer),\n",
        "    ('clf', MultinomialNB())\n",
        "])"
      ]
    },
    {
      "cell_type": "code",
      "execution_count": 39,
      "metadata": {
        "id": "txV6RICoQHiA",
        "colab": {
          "base_uri": "https://localhost:8080/",
          "height": 127
        },
        "outputId": "54d5dda6-7047-45ba-8ea3-a0923db565b2"
      },
      "outputs": [
        {
          "output_type": "execute_result",
          "data": {
            "text/plain": [
              "Pipeline(steps=[('vectorizer',\n",
              "                 TfidfVectorizer(analyzer='char', ngram_range=(1, 3))),\n",
              "                ('clf', MultinomialNB())])"
            ],
            "text/html": [
              "<style>#sk-container-id-1 {color: black;background-color: white;}#sk-container-id-1 pre{padding: 0;}#sk-container-id-1 div.sk-toggleable {background-color: white;}#sk-container-id-1 label.sk-toggleable__label {cursor: pointer;display: block;width: 100%;margin-bottom: 0;padding: 0.3em;box-sizing: border-box;text-align: center;}#sk-container-id-1 label.sk-toggleable__label-arrow:before {content: \"▸\";float: left;margin-right: 0.25em;color: #696969;}#sk-container-id-1 label.sk-toggleable__label-arrow:hover:before {color: black;}#sk-container-id-1 div.sk-estimator:hover label.sk-toggleable__label-arrow:before {color: black;}#sk-container-id-1 div.sk-toggleable__content {max-height: 0;max-width: 0;overflow: hidden;text-align: left;background-color: #f0f8ff;}#sk-container-id-1 div.sk-toggleable__content pre {margin: 0.2em;color: black;border-radius: 0.25em;background-color: #f0f8ff;}#sk-container-id-1 input.sk-toggleable__control:checked~div.sk-toggleable__content {max-height: 200px;max-width: 100%;overflow: auto;}#sk-container-id-1 input.sk-toggleable__control:checked~label.sk-toggleable__label-arrow:before {content: \"▾\";}#sk-container-id-1 div.sk-estimator input.sk-toggleable__control:checked~label.sk-toggleable__label {background-color: #d4ebff;}#sk-container-id-1 div.sk-label input.sk-toggleable__control:checked~label.sk-toggleable__label {background-color: #d4ebff;}#sk-container-id-1 input.sk-hidden--visually {border: 0;clip: rect(1px 1px 1px 1px);clip: rect(1px, 1px, 1px, 1px);height: 1px;margin: -1px;overflow: hidden;padding: 0;position: absolute;width: 1px;}#sk-container-id-1 div.sk-estimator {font-family: monospace;background-color: #f0f8ff;border: 1px dotted black;border-radius: 0.25em;box-sizing: border-box;margin-bottom: 0.5em;}#sk-container-id-1 div.sk-estimator:hover {background-color: #d4ebff;}#sk-container-id-1 div.sk-parallel-item::after {content: \"\";width: 100%;border-bottom: 1px solid gray;flex-grow: 1;}#sk-container-id-1 div.sk-label:hover label.sk-toggleable__label {background-color: #d4ebff;}#sk-container-id-1 div.sk-serial::before {content: \"\";position: absolute;border-left: 1px solid gray;box-sizing: border-box;top: 0;bottom: 0;left: 50%;z-index: 0;}#sk-container-id-1 div.sk-serial {display: flex;flex-direction: column;align-items: center;background-color: white;padding-right: 0.2em;padding-left: 0.2em;position: relative;}#sk-container-id-1 div.sk-item {position: relative;z-index: 1;}#sk-container-id-1 div.sk-parallel {display: flex;align-items: stretch;justify-content: center;background-color: white;position: relative;}#sk-container-id-1 div.sk-item::before, #sk-container-id-1 div.sk-parallel-item::before {content: \"\";position: absolute;border-left: 1px solid gray;box-sizing: border-box;top: 0;bottom: 0;left: 50%;z-index: -1;}#sk-container-id-1 div.sk-parallel-item {display: flex;flex-direction: column;z-index: 1;position: relative;background-color: white;}#sk-container-id-1 div.sk-parallel-item:first-child::after {align-self: flex-end;width: 50%;}#sk-container-id-1 div.sk-parallel-item:last-child::after {align-self: flex-start;width: 50%;}#sk-container-id-1 div.sk-parallel-item:only-child::after {width: 0;}#sk-container-id-1 div.sk-dashed-wrapped {border: 1px dashed gray;margin: 0 0.4em 0.5em 0.4em;box-sizing: border-box;padding-bottom: 0.4em;background-color: white;}#sk-container-id-1 div.sk-label label {font-family: monospace;font-weight: bold;display: inline-block;line-height: 1.2em;}#sk-container-id-1 div.sk-label-container {text-align: center;}#sk-container-id-1 div.sk-container {/* jupyter's `normalize.less` sets `[hidden] { display: none; }` but bootstrap.min.css set `[hidden] { display: none !important; }` so we also need the `!important` here to be able to override the default hidden behavior on the sphinx rendered scikit-learn.org. See: https://github.com/scikit-learn/scikit-learn/issues/21755 */display: inline-block !important;position: relative;}#sk-container-id-1 div.sk-text-repr-fallback {display: none;}</style><div id=\"sk-container-id-1\" class=\"sk-top-container\"><div class=\"sk-text-repr-fallback\"><pre>Pipeline(steps=[(&#x27;vectorizer&#x27;,\n",
              "                 TfidfVectorizer(analyzer=&#x27;char&#x27;, ngram_range=(1, 3))),\n",
              "                (&#x27;clf&#x27;, MultinomialNB())])</pre><b>In a Jupyter environment, please rerun this cell to show the HTML representation or trust the notebook. <br />On GitHub, the HTML representation is unable to render, please try loading this page with nbviewer.org.</b></div><div class=\"sk-container\" hidden><div class=\"sk-item sk-dashed-wrapped\"><div class=\"sk-label-container\"><div class=\"sk-label sk-toggleable\"><input class=\"sk-toggleable__control sk-hidden--visually\" id=\"sk-estimator-id-1\" type=\"checkbox\" ><label for=\"sk-estimator-id-1\" class=\"sk-toggleable__label sk-toggleable__label-arrow\">Pipeline</label><div class=\"sk-toggleable__content\"><pre>Pipeline(steps=[(&#x27;vectorizer&#x27;,\n",
              "                 TfidfVectorizer(analyzer=&#x27;char&#x27;, ngram_range=(1, 3))),\n",
              "                (&#x27;clf&#x27;, MultinomialNB())])</pre></div></div></div><div class=\"sk-serial\"><div class=\"sk-item\"><div class=\"sk-estimator sk-toggleable\"><input class=\"sk-toggleable__control sk-hidden--visually\" id=\"sk-estimator-id-2\" type=\"checkbox\" ><label for=\"sk-estimator-id-2\" class=\"sk-toggleable__label sk-toggleable__label-arrow\">TfidfVectorizer</label><div class=\"sk-toggleable__content\"><pre>TfidfVectorizer(analyzer=&#x27;char&#x27;, ngram_range=(1, 3))</pre></div></div></div><div class=\"sk-item\"><div class=\"sk-estimator sk-toggleable\"><input class=\"sk-toggleable__control sk-hidden--visually\" id=\"sk-estimator-id-3\" type=\"checkbox\" ><label for=\"sk-estimator-id-3\" class=\"sk-toggleable__label sk-toggleable__label-arrow\">MultinomialNB</label><div class=\"sk-toggleable__content\"><pre>MultinomialNB()</pre></div></div></div></div></div></div></div>"
            ]
          },
          "metadata": {},
          "execution_count": 39
        }
      ],
      "source": [
        "pipe_mnb.fit(x_train, y_train)"
      ]
    },
    {
      "cell_type": "code",
      "execution_count": 40,
      "metadata": {
        "id": "L84iKj2uQJRI"
      },
      "outputs": [],
      "source": [
        "pipe_lr = pipeline.Pipeline([\n",
        "    ('vectorizer', vectorizer),\n",
        "    ('lr_clf', LogisticRegression())\n",
        "])"
      ]
    },
    {
      "cell_type": "code",
      "execution_count": 41,
      "metadata": {
        "id": "EzI_sHLWQLwZ",
        "colab": {
          "base_uri": "https://localhost:8080/",
          "height": 274
        },
        "outputId": "f77befd2-b54a-4dca-e517-bdda9238a7fa"
      },
      "outputs": [
        {
          "output_type": "stream",
          "name": "stderr",
          "text": [
            "/usr/local/lib/python3.10/dist-packages/sklearn/linear_model/_logistic.py:458: ConvergenceWarning: lbfgs failed to converge (status=1):\n",
            "STOP: TOTAL NO. of ITERATIONS REACHED LIMIT.\n",
            "\n",
            "Increase the number of iterations (max_iter) or scale the data as shown in:\n",
            "    https://scikit-learn.org/stable/modules/preprocessing.html\n",
            "Please also refer to the documentation for alternative solver options:\n",
            "    https://scikit-learn.org/stable/modules/linear_model.html#logistic-regression\n",
            "  n_iter_i = _check_optimize_result(\n"
          ]
        },
        {
          "output_type": "execute_result",
          "data": {
            "text/plain": [
              "Pipeline(steps=[('vectorizer',\n",
              "                 TfidfVectorizer(analyzer='char', ngram_range=(1, 3))),\n",
              "                ('lr_clf', LogisticRegression())])"
            ],
            "text/html": [
              "<style>#sk-container-id-2 {color: black;background-color: white;}#sk-container-id-2 pre{padding: 0;}#sk-container-id-2 div.sk-toggleable {background-color: white;}#sk-container-id-2 label.sk-toggleable__label {cursor: pointer;display: block;width: 100%;margin-bottom: 0;padding: 0.3em;box-sizing: border-box;text-align: center;}#sk-container-id-2 label.sk-toggleable__label-arrow:before {content: \"▸\";float: left;margin-right: 0.25em;color: #696969;}#sk-container-id-2 label.sk-toggleable__label-arrow:hover:before {color: black;}#sk-container-id-2 div.sk-estimator:hover label.sk-toggleable__label-arrow:before {color: black;}#sk-container-id-2 div.sk-toggleable__content {max-height: 0;max-width: 0;overflow: hidden;text-align: left;background-color: #f0f8ff;}#sk-container-id-2 div.sk-toggleable__content pre {margin: 0.2em;color: black;border-radius: 0.25em;background-color: #f0f8ff;}#sk-container-id-2 input.sk-toggleable__control:checked~div.sk-toggleable__content {max-height: 200px;max-width: 100%;overflow: auto;}#sk-container-id-2 input.sk-toggleable__control:checked~label.sk-toggleable__label-arrow:before {content: \"▾\";}#sk-container-id-2 div.sk-estimator input.sk-toggleable__control:checked~label.sk-toggleable__label {background-color: #d4ebff;}#sk-container-id-2 div.sk-label input.sk-toggleable__control:checked~label.sk-toggleable__label {background-color: #d4ebff;}#sk-container-id-2 input.sk-hidden--visually {border: 0;clip: rect(1px 1px 1px 1px);clip: rect(1px, 1px, 1px, 1px);height: 1px;margin: -1px;overflow: hidden;padding: 0;position: absolute;width: 1px;}#sk-container-id-2 div.sk-estimator {font-family: monospace;background-color: #f0f8ff;border: 1px dotted black;border-radius: 0.25em;box-sizing: border-box;margin-bottom: 0.5em;}#sk-container-id-2 div.sk-estimator:hover {background-color: #d4ebff;}#sk-container-id-2 div.sk-parallel-item::after {content: \"\";width: 100%;border-bottom: 1px solid gray;flex-grow: 1;}#sk-container-id-2 div.sk-label:hover label.sk-toggleable__label {background-color: #d4ebff;}#sk-container-id-2 div.sk-serial::before {content: \"\";position: absolute;border-left: 1px solid gray;box-sizing: border-box;top: 0;bottom: 0;left: 50%;z-index: 0;}#sk-container-id-2 div.sk-serial {display: flex;flex-direction: column;align-items: center;background-color: white;padding-right: 0.2em;padding-left: 0.2em;position: relative;}#sk-container-id-2 div.sk-item {position: relative;z-index: 1;}#sk-container-id-2 div.sk-parallel {display: flex;align-items: stretch;justify-content: center;background-color: white;position: relative;}#sk-container-id-2 div.sk-item::before, #sk-container-id-2 div.sk-parallel-item::before {content: \"\";position: absolute;border-left: 1px solid gray;box-sizing: border-box;top: 0;bottom: 0;left: 50%;z-index: -1;}#sk-container-id-2 div.sk-parallel-item {display: flex;flex-direction: column;z-index: 1;position: relative;background-color: white;}#sk-container-id-2 div.sk-parallel-item:first-child::after {align-self: flex-end;width: 50%;}#sk-container-id-2 div.sk-parallel-item:last-child::after {align-self: flex-start;width: 50%;}#sk-container-id-2 div.sk-parallel-item:only-child::after {width: 0;}#sk-container-id-2 div.sk-dashed-wrapped {border: 1px dashed gray;margin: 0 0.4em 0.5em 0.4em;box-sizing: border-box;padding-bottom: 0.4em;background-color: white;}#sk-container-id-2 div.sk-label label {font-family: monospace;font-weight: bold;display: inline-block;line-height: 1.2em;}#sk-container-id-2 div.sk-label-container {text-align: center;}#sk-container-id-2 div.sk-container {/* jupyter's `normalize.less` sets `[hidden] { display: none; }` but bootstrap.min.css set `[hidden] { display: none !important; }` so we also need the `!important` here to be able to override the default hidden behavior on the sphinx rendered scikit-learn.org. See: https://github.com/scikit-learn/scikit-learn/issues/21755 */display: inline-block !important;position: relative;}#sk-container-id-2 div.sk-text-repr-fallback {display: none;}</style><div id=\"sk-container-id-2\" class=\"sk-top-container\"><div class=\"sk-text-repr-fallback\"><pre>Pipeline(steps=[(&#x27;vectorizer&#x27;,\n",
              "                 TfidfVectorizer(analyzer=&#x27;char&#x27;, ngram_range=(1, 3))),\n",
              "                (&#x27;lr_clf&#x27;, LogisticRegression())])</pre><b>In a Jupyter environment, please rerun this cell to show the HTML representation or trust the notebook. <br />On GitHub, the HTML representation is unable to render, please try loading this page with nbviewer.org.</b></div><div class=\"sk-container\" hidden><div class=\"sk-item sk-dashed-wrapped\"><div class=\"sk-label-container\"><div class=\"sk-label sk-toggleable\"><input class=\"sk-toggleable__control sk-hidden--visually\" id=\"sk-estimator-id-4\" type=\"checkbox\" ><label for=\"sk-estimator-id-4\" class=\"sk-toggleable__label sk-toggleable__label-arrow\">Pipeline</label><div class=\"sk-toggleable__content\"><pre>Pipeline(steps=[(&#x27;vectorizer&#x27;,\n",
              "                 TfidfVectorizer(analyzer=&#x27;char&#x27;, ngram_range=(1, 3))),\n",
              "                (&#x27;lr_clf&#x27;, LogisticRegression())])</pre></div></div></div><div class=\"sk-serial\"><div class=\"sk-item\"><div class=\"sk-estimator sk-toggleable\"><input class=\"sk-toggleable__control sk-hidden--visually\" id=\"sk-estimator-id-5\" type=\"checkbox\" ><label for=\"sk-estimator-id-5\" class=\"sk-toggleable__label sk-toggleable__label-arrow\">TfidfVectorizer</label><div class=\"sk-toggleable__content\"><pre>TfidfVectorizer(analyzer=&#x27;char&#x27;, ngram_range=(1, 3))</pre></div></div></div><div class=\"sk-item\"><div class=\"sk-estimator sk-toggleable\"><input class=\"sk-toggleable__control sk-hidden--visually\" id=\"sk-estimator-id-6\" type=\"checkbox\" ><label for=\"sk-estimator-id-6\" class=\"sk-toggleable__label sk-toggleable__label-arrow\">LogisticRegression</label><div class=\"sk-toggleable__content\"><pre>LogisticRegression()</pre></div></div></div></div></div></div></div>"
            ]
          },
          "metadata": {},
          "execution_count": 41
        }
      ],
      "source": [
        "pipe_lr.fit(x_train, y_train)"
      ]
    },
    {
      "cell_type": "markdown",
      "metadata": {
        "id": "8ysaatRqQWho"
      },
      "source": [
        "# Model Prediction for Logistic Regression"
      ]
    },
    {
      "cell_type": "code",
      "execution_count": 42,
      "metadata": {
        "id": "NGKfLjlqQbPX"
      },
      "outputs": [],
      "source": [
        "lr_predicted = pipe_lr.predict(x_test)"
      ]
    },
    {
      "cell_type": "markdown",
      "metadata": {
        "id": "fhjaDwLpRJSl"
      },
      "source": [
        "# Model evaluation for Logistic Regression"
      ]
    },
    {
      "cell_type": "code",
      "execution_count": 43,
      "metadata": {
        "id": "hvPmfncqRO_I",
        "colab": {
          "base_uri": "https://localhost:8080/"
        },
        "outputId": "ccd32ed2-8a70-43fc-a3bf-0e66baeeaa26"
      },
      "outputs": [
        {
          "output_type": "stream",
          "name": "stdout",
          "text": [
            "The logistic regression has: 91.87142857142857 % accuracy\n"
          ]
        }
      ],
      "source": [
        "lr_acc = (metrics.accuracy_score(y_test, lr_predicted))*100\n",
        "print('The logistic regression has:',lr_acc,'% accuracy')"
      ]
    },
    {
      "cell_type": "markdown",
      "metadata": {
        "id": "7ExDCZobQjWa"
      },
      "source": [
        "# Model Prediction for MultinomialNB"
      ]
    },
    {
      "cell_type": "code",
      "execution_count": 44,
      "metadata": {
        "id": "bIF8sjW2QsXa"
      },
      "outputs": [],
      "source": [
        "mnb_predicted = pipe_mnb.predict(x_test)"
      ]
    },
    {
      "cell_type": "markdown",
      "metadata": {
        "id": "snmAoZp6RYGq"
      },
      "source": [
        "# Model Evaluation for MultinomialNB"
      ]
    },
    {
      "cell_type": "code",
      "execution_count": 45,
      "metadata": {
        "id": "pXneWQ2vRcTE",
        "colab": {
          "base_uri": "https://localhost:8080/"
        },
        "outputId": "432f3324-2c72-42fe-878c-cf9e841f0bb2"
      },
      "outputs": [
        {
          "output_type": "stream",
          "name": "stdout",
          "text": [
            "The MultinomialNB has : 90.60714285714285 % accuracy\n"
          ]
        }
      ],
      "source": [
        "mnb_acc = (metrics.accuracy_score(y_test, mnb_predicted))*100\n",
        "print('The MultinomialNB has :',mnb_acc,'% accuracy')"
      ]
    },
    {
      "cell_type": "markdown",
      "metadata": {
        "id": "Q8wCnKsDRhOv"
      },
      "source": [
        "# Evaluation matrix for Logistic Regression"
      ]
    },
    {
      "cell_type": "code",
      "execution_count": 46,
      "metadata": {
        "id": "TPCFNkpbRkT3",
        "colab": {
          "base_uri": "https://localhost:8080/"
        },
        "outputId": "fee0348d-1ec0-4e6b-a999-85aca2905c9c"
      },
      "outputs": [
        {
          "output_type": "stream",
          "name": "stdout",
          "text": [
            "Confusion matrix: \n",
            " [[ 877    1    0    1    0    0    7    1    2   10    2   94    2    0]\n",
            " [ 103  838    0    0    0    1    6    3    0    6    0   22    4    0]\n",
            " [   2    0  977    0    0    0    0    0    0    1    0    1    2    2]\n",
            " [   0    1    0  990    0    0    0    1    0    0    0    2    1    0]\n",
            " [   2    0    0    0  971    0    0    0    1    0    0    1    1    0]\n",
            " [   0    0    0    0    0 1011    0    2    0    0    0    1    0    0]\n",
            " [   4    0    0    2    0    0  983    0    1    2    0    2    0    0]\n",
            " [  99    3    0    0    0    4    0  875    2    6    1   29    1    0]\n",
            " [ 100    3    0    0    0    1    0    2  895    6    0   23    2    0]\n",
            " [ 122    2    0    0    0    1    1    1    2  890    2   21    0    0]\n",
            " [   3    0    0    0    0    0    0    0    0    0 1001    3    0    0]\n",
            " [ 238    1    0    0    1    2    6    2    1   11    2  724    2    0]\n",
            " [  85    1    0    0    0    5    2    1    1    5    1   30  873    0]\n",
            " [   0    0    1    0    0    0    0    1    1    0    0    1    0  957]]\n"
          ]
        }
      ],
      "source": [
        "matrix = metrics.confusion_matrix(y_test, lr_predicted)\n",
        "print('Confusion matrix: \\n', matrix)"
      ]
    },
    {
      "cell_type": "code",
      "execution_count": 47,
      "metadata": {
        "id": "73b6dxkHSpQl"
      },
      "outputs": [],
      "source": [
        "import pickle\n"
      ]
    },
    {
      "cell_type": "code",
      "execution_count": 48,
      "metadata": {
        "id": "9SiMa4ezSrOt"
      },
      "outputs": [],
      "source": [
        "lrfile = open('lrmodel.pckl', 'wb')\n",
        "pickle.dump(pipe_lr, lrfile)\n",
        "lrfile.close()"
      ]
    }
  ],
  "metadata": {
    "colab": {
      "provenance": []
    },
    "kernelspec": {
      "display_name": "Python 3",
      "name": "python3"
    },
    "language_info": {
      "name": "python"
    }
  },
  "nbformat": 4,
  "nbformat_minor": 0
}